{
 "cells": [
  {
   "cell_type": "code",
   "execution_count": 2,
   "id": "bae849b8-72d6-4115-bb3b-a1e89b6b4453",
   "metadata": {},
   "outputs": [],
   "source": [
    "import pandas as pd\n",
    "import matplotlib.pyplot as plt\n",
    "%matplotlib inline"
   ]
  },
  {
   "cell_type": "code",
   "execution_count": 3,
   "id": "f1292e8a-2c49-4687-99aa-919e64954f6d",
   "metadata": {},
   "outputs": [],
   "source": [
    "path = 'CTA_Data.csv'\n",
    "CTAs = pd.read_csv(path)"
   ]
  },
  {
   "cell_type": "code",
   "execution_count": 4,
   "id": "90c25b7d-133f-450b-b844-f41343f5f077",
   "metadata": {},
   "outputs": [
    {
     "data": {
      "text/html": [
       "<div>\n",
       "<style scoped>\n",
       "    .dataframe tbody tr th:only-of-type {\n",
       "        vertical-align: middle;\n",
       "    }\n",
       "\n",
       "    .dataframe tbody tr th {\n",
       "        vertical-align: top;\n",
       "    }\n",
       "\n",
       "    .dataframe thead th {\n",
       "        text-align: right;\n",
       "    }\n",
       "</style>\n",
       "<table border=\"1\" class=\"dataframe\">\n",
       "  <thead>\n",
       "    <tr style=\"text-align: right;\">\n",
       "      <th></th>\n",
       "      <th>Timestamp</th>\n",
       "      <th>Plants</th>\n",
       "      <th>Dreams</th>\n",
       "      <th>Lucky directions</th>\n",
       "      <th>Halloween plans</th>\n",
       "      <th>Bodies</th>\n",
       "      <th>Hair colors</th>\n",
       "      <th>Moments</th>\n",
       "    </tr>\n",
       "  </thead>\n",
       "  <tbody>\n",
       "    <tr>\n",
       "      <th>0</th>\n",
       "      <td>2024/10/17 2:09:12 pm CET</td>\n",
       "      <td>Bushes</td>\n",
       "      <td>Happy dreams- Unbelievable fantasies</td>\n",
       "      <td>Northwestern</td>\n",
       "      <td>Be some food</td>\n",
       "      <td>I love every part of my self!</td>\n",
       "      <td>Pink</td>\n",
       "      <td>Sunset</td>\n",
       "    </tr>\n",
       "    <tr>\n",
       "      <th>1</th>\n",
       "      <td>2024/10/17 2:10:08 pm CET</td>\n",
       "      <td>Tall Pine Trees</td>\n",
       "      <td>Happy dreams- Flying in the sky</td>\n",
       "      <td>Weatern</td>\n",
       "      <td>Don't like halloween</td>\n",
       "      <td>Eyes</td>\n",
       "      <td>Blonde</td>\n",
       "      <td>Sunrise</td>\n",
       "    </tr>\n",
       "    <tr>\n",
       "      <th>2</th>\n",
       "      <td>2024/10/17 2:10:16 pm CET</td>\n",
       "      <td>Moss</td>\n",
       "      <td>Stressful dreams- Having a test</td>\n",
       "      <td>Eastern</td>\n",
       "      <td>Never dressed up for Halloween before :/</td>\n",
       "      <td>Eyes</td>\n",
       "      <td>Black</td>\n",
       "      <td>Sunrise</td>\n",
       "    </tr>\n",
       "    <tr>\n",
       "      <th>3</th>\n",
       "      <td>2024/10/17 2:10:32 pm CET</td>\n",
       "      <td>Tall Pine Trees</td>\n",
       "      <td>Always forget my dream</td>\n",
       "      <td>Southern</td>\n",
       "      <td>Dressing up as Ghostface for a pub trip</td>\n",
       "      <td>Legs</td>\n",
       "      <td>Black</td>\n",
       "      <td>Evening</td>\n",
       "    </tr>\n",
       "    <tr>\n",
       "      <th>4</th>\n",
       "      <td>2024/10/17 2:10:51 pm CET</td>\n",
       "      <td>Moss</td>\n",
       "      <td>Always forget my dream</td>\n",
       "      <td>Northwestern</td>\n",
       "      <td>Cosplay as some celebrities</td>\n",
       "      <td>I love every part of my self!</td>\n",
       "      <td>Pink</td>\n",
       "      <td>Sunset</td>\n",
       "    </tr>\n",
       "  </tbody>\n",
       "</table>\n",
       "</div>"
      ],
      "text/plain": [
       "                   Timestamp           Plants  \\\n",
       "0  2024/10/17 2:09:12 pm CET           Bushes   \n",
       "1  2024/10/17 2:10:08 pm CET  Tall Pine Trees   \n",
       "2  2024/10/17 2:10:16 pm CET             Moss   \n",
       "3  2024/10/17 2:10:32 pm CET  Tall Pine Trees   \n",
       "4  2024/10/17 2:10:51 pm CET             Moss   \n",
       "\n",
       "                                 Dreams Lucky directions  \\\n",
       "0  Happy dreams- Unbelievable fantasies     Northwestern   \n",
       "1       Happy dreams- Flying in the sky          Weatern   \n",
       "2       Stressful dreams- Having a test          Eastern   \n",
       "3                Always forget my dream         Southern   \n",
       "4                Always forget my dream     Northwestern   \n",
       "\n",
       "                            Halloween plans                         Bodies  \\\n",
       "0                              Be some food  I love every part of my self!   \n",
       "1                      Don't like halloween                           Eyes   \n",
       "2  Never dressed up for Halloween before :/                           Eyes   \n",
       "3   Dressing up as Ghostface for a pub trip                           Legs   \n",
       "4               Cosplay as some celebrities  I love every part of my self!   \n",
       "\n",
       "  Hair colors  Moments  \n",
       "0        Pink   Sunset  \n",
       "1      Blonde  Sunrise  \n",
       "2       Black  Sunrise  \n",
       "3       Black  Evening  \n",
       "4        Pink   Sunset  "
      ]
     },
     "execution_count": 4,
     "metadata": {},
     "output_type": "execute_result"
    }
   ],
   "source": [
    "CTAs.head()"
   ]
  },
  {
   "cell_type": "code",
   "execution_count": 5,
   "id": "1885fb10-9cf8-40ca-b1df-12e29b622008",
   "metadata": {},
   "outputs": [
    {
     "data": {
      "text/html": [
       "<div>\n",
       "<style scoped>\n",
       "    .dataframe tbody tr th:only-of-type {\n",
       "        vertical-align: middle;\n",
       "    }\n",
       "\n",
       "    .dataframe tbody tr th {\n",
       "        vertical-align: top;\n",
       "    }\n",
       "\n",
       "    .dataframe thead th {\n",
       "        text-align: right;\n",
       "    }\n",
       "</style>\n",
       "<table border=\"1\" class=\"dataframe\">\n",
       "  <thead>\n",
       "    <tr style=\"text-align: right;\">\n",
       "      <th></th>\n",
       "      <th>Timestamp</th>\n",
       "      <th>Plants</th>\n",
       "      <th>Dreams</th>\n",
       "      <th>Lucky directions</th>\n",
       "      <th>Halloween plans</th>\n",
       "      <th>Bodies</th>\n",
       "      <th>Hair colors</th>\n",
       "      <th>Moments</th>\n",
       "    </tr>\n",
       "  </thead>\n",
       "  <tbody>\n",
       "    <tr>\n",
       "      <th>0</th>\n",
       "      <td>2024/10/17 2:09:12 pm CET</td>\n",
       "      <td>Bushes</td>\n",
       "      <td>Happy dreams- Unbelievable fantasies</td>\n",
       "      <td>Northwestern</td>\n",
       "      <td>Be some food</td>\n",
       "      <td>I love every part of my self!</td>\n",
       "      <td>Pink</td>\n",
       "      <td>Sunset</td>\n",
       "    </tr>\n",
       "    <tr>\n",
       "      <th>1</th>\n",
       "      <td>2024/10/17 2:10:08 pm CET</td>\n",
       "      <td>Tall Pine Trees</td>\n",
       "      <td>Happy dreams- Flying in the sky</td>\n",
       "      <td>Weatern</td>\n",
       "      <td>Don't like halloween</td>\n",
       "      <td>Eyes</td>\n",
       "      <td>Blonde</td>\n",
       "      <td>Sunrise</td>\n",
       "    </tr>\n",
       "    <tr>\n",
       "      <th>2</th>\n",
       "      <td>2024/10/17 2:10:16 pm CET</td>\n",
       "      <td>Moss</td>\n",
       "      <td>Stressful dreams- Having a test</td>\n",
       "      <td>Eastern</td>\n",
       "      <td>Never dressed up for Halloween before :/</td>\n",
       "      <td>Eyes</td>\n",
       "      <td>Black</td>\n",
       "      <td>Sunrise</td>\n",
       "    </tr>\n",
       "    <tr>\n",
       "      <th>3</th>\n",
       "      <td>2024/10/17 2:10:32 pm CET</td>\n",
       "      <td>Tall Pine Trees</td>\n",
       "      <td>Always forget my dream</td>\n",
       "      <td>Southern</td>\n",
       "      <td>Dressing up as Ghostface for a pub trip</td>\n",
       "      <td>Legs</td>\n",
       "      <td>Black</td>\n",
       "      <td>Evening</td>\n",
       "    </tr>\n",
       "    <tr>\n",
       "      <th>4</th>\n",
       "      <td>2024/10/17 2:10:51 pm CET</td>\n",
       "      <td>Moss</td>\n",
       "      <td>Always forget my dream</td>\n",
       "      <td>Northwestern</td>\n",
       "      <td>Cosplay as some celebrities</td>\n",
       "      <td>I love every part of my self!</td>\n",
       "      <td>Pink</td>\n",
       "      <td>Sunset</td>\n",
       "    </tr>\n",
       "    <tr>\n",
       "      <th>5</th>\n",
       "      <td>2024/10/17 2:11:49 pm CET</td>\n",
       "      <td>Apple trees or other trees with flowers</td>\n",
       "      <td>Stressful dreams- Having a test</td>\n",
       "      <td>Southern</td>\n",
       "      <td>Be some inorganic life-form, like headphone</td>\n",
       "      <td>Mouth</td>\n",
       "      <td>Red</td>\n",
       "      <td>Sunrise</td>\n",
       "    </tr>\n",
       "    <tr>\n",
       "      <th>6</th>\n",
       "      <td>2024/10/17 2:12:19 pm CET</td>\n",
       "      <td>Apple trees or other trees with flowers</td>\n",
       "      <td>Happy dreams- Unbelievable fantasies</td>\n",
       "      <td>Northeastern</td>\n",
       "      <td>Cosplay as some celebrities</td>\n",
       "      <td>Eyes</td>\n",
       "      <td>Red</td>\n",
       "      <td>Evening</td>\n",
       "    </tr>\n",
       "    <tr>\n",
       "      <th>7</th>\n",
       "      <td>2024/10/17 2:12:29 pm CET</td>\n",
       "      <td>Moss</td>\n",
       "      <td>Stressful dreams- Having a test</td>\n",
       "      <td>Southeastern</td>\n",
       "      <td>Be some inorganic life-form, like headphone</td>\n",
       "      <td>I love every part of my self!</td>\n",
       "      <td>Blonde</td>\n",
       "      <td>Sunrise</td>\n",
       "    </tr>\n",
       "    <tr>\n",
       "      <th>8</th>\n",
       "      <td>2024/10/17 2:13:36 pm CET</td>\n",
       "      <td>Weeping willow</td>\n",
       "      <td>Always forget my dream</td>\n",
       "      <td>Northern</td>\n",
       "      <td>Cosplay as some celebrities</td>\n",
       "      <td>Eyes</td>\n",
       "      <td>Black</td>\n",
       "      <td>Sunrise</td>\n",
       "    </tr>\n",
       "    <tr>\n",
       "      <th>9</th>\n",
       "      <td>2024/10/17 2:13:43 pm CET</td>\n",
       "      <td>Moss</td>\n",
       "      <td>Happy dreams- Unbelievable fantasies</td>\n",
       "      <td>Southern</td>\n",
       "      <td>Try to dress up emo</td>\n",
       "      <td>I love every part of my self!</td>\n",
       "      <td>Blonde</td>\n",
       "      <td>Afternoon</td>\n",
       "    </tr>\n",
       "    <tr>\n",
       "      <th>10</th>\n",
       "      <td>2024/10/17 2:14:09 pm CET</td>\n",
       "      <td>Tall Pine Trees</td>\n",
       "      <td>Happy dreams- Flying in the sky</td>\n",
       "      <td>Southern</td>\n",
       "      <td>Don't like halloween</td>\n",
       "      <td>I love every part of my self!</td>\n",
       "      <td>Brown</td>\n",
       "      <td>Sunrise</td>\n",
       "    </tr>\n",
       "    <tr>\n",
       "      <th>11</th>\n",
       "      <td>2024/10/17 2:14:50 pm CET</td>\n",
       "      <td>Apple trees or other trees with flowers</td>\n",
       "      <td>murder scene</td>\n",
       "      <td>Southern</td>\n",
       "      <td>snowman</td>\n",
       "      <td>I love every part of my self!</td>\n",
       "      <td>Brown</td>\n",
       "      <td>NaN</td>\n",
       "    </tr>\n",
       "    <tr>\n",
       "      <th>12</th>\n",
       "      <td>2024/10/17 3:55:04 pm CET</td>\n",
       "      <td>Apple trees or other trees with flowers</td>\n",
       "      <td>Always forget my dream</td>\n",
       "      <td>Eastern</td>\n",
       "      <td>Barbie</td>\n",
       "      <td>I love every part of my self!</td>\n",
       "      <td>Red</td>\n",
       "      <td>Sunset</td>\n",
       "    </tr>\n",
       "    <tr>\n",
       "      <th>13</th>\n",
       "      <td>2024/10/17 5:43:03 pm CET</td>\n",
       "      <td>Bushes</td>\n",
       "      <td>Always forget my dream</td>\n",
       "      <td>Southern</td>\n",
       "      <td>Be some food</td>\n",
       "      <td>Hands</td>\n",
       "      <td>Blue</td>\n",
       "      <td>Sunrise</td>\n",
       "    </tr>\n",
       "    <tr>\n",
       "      <th>14</th>\n",
       "      <td>2024/10/17 8:29:43 pm CET</td>\n",
       "      <td>Apple trees or other trees with flowers</td>\n",
       "      <td>Always forget my dream</td>\n",
       "      <td>Eastern</td>\n",
       "      <td>Cosplay as some celebrities</td>\n",
       "      <td>Eyes</td>\n",
       "      <td>Pink</td>\n",
       "      <td>Sunset</td>\n",
       "    </tr>\n",
       "    <tr>\n",
       "      <th>15</th>\n",
       "      <td>2024/10/20 3:00:00 pm CET</td>\n",
       "      <td>Tall Pine Trees</td>\n",
       "      <td>rarely have dreams</td>\n",
       "      <td>NaN</td>\n",
       "      <td>NaN</td>\n",
       "      <td>I love every part of my self!</td>\n",
       "      <td>Brown</td>\n",
       "      <td>Sunrise</td>\n",
       "    </tr>\n",
       "    <tr>\n",
       "      <th>16</th>\n",
       "      <td>2024/10/21 11:06:55 am CET</td>\n",
       "      <td>Tall Pine Trees</td>\n",
       "      <td>Always forget my dream</td>\n",
       "      <td>Southwestern</td>\n",
       "      <td>Be some inorganic life-form, like headphone</td>\n",
       "      <td>I love every part of my self!</td>\n",
       "      <td>Blonde + Black pokedots</td>\n",
       "      <td>Sunset</td>\n",
       "    </tr>\n",
       "    <tr>\n",
       "      <th>17</th>\n",
       "      <td>2024/10/21 11:51:44 am CET</td>\n",
       "      <td>Tall Pine Trees</td>\n",
       "      <td>Happy dreams- Unbelievable fantasies</td>\n",
       "      <td>Northeastern</td>\n",
       "      <td>Be some inorganic life-form, like headphone</td>\n",
       "      <td>Hands</td>\n",
       "      <td>Green</td>\n",
       "      <td>Evening</td>\n",
       "    </tr>\n",
       "  </tbody>\n",
       "</table>\n",
       "</div>"
      ],
      "text/plain": [
       "                     Timestamp                                   Plants  \\\n",
       "0    2024/10/17 2:09:12 pm CET                                   Bushes   \n",
       "1    2024/10/17 2:10:08 pm CET                          Tall Pine Trees   \n",
       "2    2024/10/17 2:10:16 pm CET                                     Moss   \n",
       "3    2024/10/17 2:10:32 pm CET                          Tall Pine Trees   \n",
       "4    2024/10/17 2:10:51 pm CET                                     Moss   \n",
       "5    2024/10/17 2:11:49 pm CET  Apple trees or other trees with flowers   \n",
       "6    2024/10/17 2:12:19 pm CET  Apple trees or other trees with flowers   \n",
       "7    2024/10/17 2:12:29 pm CET                                     Moss   \n",
       "8    2024/10/17 2:13:36 pm CET                           Weeping willow   \n",
       "9    2024/10/17 2:13:43 pm CET                                     Moss   \n",
       "10   2024/10/17 2:14:09 pm CET                          Tall Pine Trees   \n",
       "11   2024/10/17 2:14:50 pm CET  Apple trees or other trees with flowers   \n",
       "12   2024/10/17 3:55:04 pm CET  Apple trees or other trees with flowers   \n",
       "13   2024/10/17 5:43:03 pm CET                                   Bushes   \n",
       "14   2024/10/17 8:29:43 pm CET  Apple trees or other trees with flowers   \n",
       "15   2024/10/20 3:00:00 pm CET                          Tall Pine Trees   \n",
       "16  2024/10/21 11:06:55 am CET                          Tall Pine Trees   \n",
       "17  2024/10/21 11:51:44 am CET                          Tall Pine Trees   \n",
       "\n",
       "                                  Dreams Lucky directions  \\\n",
       "0   Happy dreams- Unbelievable fantasies     Northwestern   \n",
       "1        Happy dreams- Flying in the sky          Weatern   \n",
       "2        Stressful dreams- Having a test          Eastern   \n",
       "3                 Always forget my dream         Southern   \n",
       "4                 Always forget my dream     Northwestern   \n",
       "5        Stressful dreams- Having a test         Southern   \n",
       "6   Happy dreams- Unbelievable fantasies     Northeastern   \n",
       "7        Stressful dreams- Having a test     Southeastern   \n",
       "8                 Always forget my dream         Northern   \n",
       "9   Happy dreams- Unbelievable fantasies         Southern   \n",
       "10       Happy dreams- Flying in the sky         Southern   \n",
       "11                          murder scene         Southern   \n",
       "12                Always forget my dream          Eastern   \n",
       "13                Always forget my dream         Southern   \n",
       "14                Always forget my dream          Eastern   \n",
       "15                    rarely have dreams              NaN   \n",
       "16                Always forget my dream     Southwestern   \n",
       "17  Happy dreams- Unbelievable fantasies     Northeastern   \n",
       "\n",
       "                                Halloween plans  \\\n",
       "0                                  Be some food   \n",
       "1                          Don't like halloween   \n",
       "2      Never dressed up for Halloween before :/   \n",
       "3       Dressing up as Ghostface for a pub trip   \n",
       "4                   Cosplay as some celebrities   \n",
       "5   Be some inorganic life-form, like headphone   \n",
       "6                   Cosplay as some celebrities   \n",
       "7   Be some inorganic life-form, like headphone   \n",
       "8                   Cosplay as some celebrities   \n",
       "9                           Try to dress up emo   \n",
       "10                         Don't like halloween   \n",
       "11                                      snowman   \n",
       "12                                      Barbie    \n",
       "13                                 Be some food   \n",
       "14                  Cosplay as some celebrities   \n",
       "15                                          NaN   \n",
       "16  Be some inorganic life-form, like headphone   \n",
       "17  Be some inorganic life-form, like headphone   \n",
       "\n",
       "                           Bodies              Hair colors    Moments  \n",
       "0   I love every part of my self!                     Pink     Sunset  \n",
       "1                            Eyes                   Blonde    Sunrise  \n",
       "2                            Eyes                    Black    Sunrise  \n",
       "3                            Legs                    Black    Evening  \n",
       "4   I love every part of my self!                     Pink     Sunset  \n",
       "5                           Mouth                      Red    Sunrise  \n",
       "6                            Eyes                      Red    Evening  \n",
       "7   I love every part of my self!                   Blonde    Sunrise  \n",
       "8                            Eyes                    Black    Sunrise  \n",
       "9   I love every part of my self!                   Blonde  Afternoon  \n",
       "10  I love every part of my self!                    Brown    Sunrise  \n",
       "11  I love every part of my self!                    Brown        NaN  \n",
       "12  I love every part of my self!                      Red     Sunset  \n",
       "13                          Hands                     Blue    Sunrise  \n",
       "14                           Eyes                     Pink     Sunset  \n",
       "15  I love every part of my self!                    Brown    Sunrise  \n",
       "16  I love every part of my self!  Blonde + Black pokedots     Sunset  \n",
       "17                          Hands                    Green    Evening  "
      ]
     },
     "metadata": {},
     "output_type": "display_data"
    }
   ],
   "source": [
    "display(CTAs)"
   ]
  },
  {
   "cell_type": "code",
   "execution_count": 9,
   "id": "2a626023-f9d8-4772-9e83-7652239df058",
   "metadata": {},
   "outputs": [
    {
     "data": {
      "text/plain": [
       "0                                      Bushes\n",
       "1                             Tall Pine Trees\n",
       "2                                        Moss\n",
       "3                             Tall Pine Trees\n",
       "4                                        Moss\n",
       "5     Apple trees or other trees with flowers\n",
       "6     Apple trees or other trees with flowers\n",
       "7                                        Moss\n",
       "8                              Weeping willow\n",
       "9                                        Moss\n",
       "10                            Tall Pine Trees\n",
       "11    Apple trees or other trees with flowers\n",
       "12    Apple trees or other trees with flowers\n",
       "13                                     Bushes\n",
       "14    Apple trees or other trees with flowers\n",
       "15                            Tall Pine Trees\n",
       "16                            Tall Pine Trees\n",
       "17                            Tall Pine Trees\n",
       "Name: Plants, dtype: object"
      ]
     },
     "execution_count": 9,
     "metadata": {},
     "output_type": "execute_result"
    }
   ],
   "source": [
    "CTAs.Plants"
   ]
  },
  {
   "cell_type": "code",
   "execution_count": 10,
   "id": "27edcb75-0105-4928-b450-a9f03b15c071",
   "metadata": {},
   "outputs": [
    {
     "data": {
      "text/plain": [
       "Counter({'Tall Pine Trees': 6,\n",
       "         'Apple trees or other trees with flowers': 5,\n",
       "         'Moss': 4,\n",
       "         'Bushes': 2,\n",
       "         'Weeping willow': 1})"
      ]
     },
     "metadata": {},
     "output_type": "display_data"
    }
   ],
   "source": [
    "#count numbers of each plant\n",
    "#way 1:\n",
    "from collections import Counter\n",
    "plant_numbers = Counter(CTAs.Plants)\n",
    "display(plant_numbers)"
   ]
  },
  {
   "cell_type": "code",
   "execution_count": 17,
   "id": "bc47284a-86d2-4268-9187-b8defa33a3ac",
   "metadata": {},
   "outputs": [
    {
     "data": {
      "text/plain": [
       "Plants\n",
       "Tall Pine Trees                            6\n",
       "Apple trees or other trees with flowers    5\n",
       "Moss                                       4\n",
       "Bushes                                     2\n",
       "Weeping willow                             1\n",
       "Name: count, dtype: int64"
      ]
     },
     "metadata": {},
     "output_type": "display_data"
    }
   ],
   "source": [
    "#way 2:\n",
    "plant_counts = CTAs.Plants.value_counts()\n",
    "display(plant_counts)"
   ]
  },
  {
   "cell_type": "code",
   "execution_count": 18,
   "id": "b0d45c20-e322-4b15-b199-54c6405ed415",
   "metadata": {},
   "outputs": [
    {
     "data": {
      "text/plain": [
       "(array([0, 1, 2, 3, 4]),\n",
       " [Text(0, 0, 'Tall Pine Trees'),\n",
       "  Text(1, 0, 'Apple trees or other trees with flowers'),\n",
       "  Text(2, 0, 'Moss'),\n",
       "  Text(3, 0, 'Bushes'),\n",
       "  Text(4, 0, 'Weeping willow')])"
      ]
     },
     "execution_count": 18,
     "metadata": {},
     "output_type": "execute_result"
    },
    {
     "data": {
      "image/png": "[encoded data removed]",
      "text/plain": [
       "<Figure size 640x480 with 1 Axes>"
      ]
     },
     "metadata": {},
     "output_type": "display_data"
    }
   ],
   "source": [
    "plant_counts.plot(kind='bar', color='green')\n",
    "plt.xlabel('Plant')\n",
    "plt.ylabel('Number')\n",
    "plt.title('Which kind of plant you want to be in a forest?')\n",
    "plt.xticks(rotation=45)"
   ]
  },
  {
   "cell_type": "code",
   "execution_count": 13,
   "id": "61220a57-f652-413d-a9e6-88d76b4a5950",
   "metadata": {},
   "outputs": [
    {
     "data": {
      "text/plain": [
       "0     Happy dreams- Unbelievable fantasies\n",
       "1          Happy dreams- Flying in the sky\n",
       "2          Stressful dreams- Having a test\n",
       "3                   Always forget my dream\n",
       "4                   Always forget my dream\n",
       "5          Stressful dreams- Having a test\n",
       "6     Happy dreams- Unbelievable fantasies\n",
       "7          Stressful dreams- Having a test\n",
       "8                   Always forget my dream\n",
       "9     Happy dreams- Unbelievable fantasies\n",
       "10         Happy dreams- Flying in the sky\n",
       "11                            murder scene\n",
       "12                  Always forget my dream\n",
       "13                  Always forget my dream\n",
       "14                  Always forget my dream\n",
       "15                      rarely have dreams\n",
       "16                  Always forget my dream\n",
       "17    Happy dreams- Unbelievable fantasies\n",
       "Name: Dreams, dtype: object"
      ]
     },
     "execution_count": 13,
     "metadata": {},
     "output_type": "execute_result"
    }
   ],
   "source": [
    "CTAs.Dreams"
   ]
  },
  {
   "cell_type": "code",
   "execution_count": 14,
   "id": "a11668ea-e8f2-4428-8937-0845b89972ab",
   "metadata": {},
   "outputs": [
    {
     "data": {
      "text/plain": [
       "Dreams\n",
       "Always forget my dream                  7\n",
       "Happy dreams- Unbelievable fantasies    4\n",
       "Stressful dreams- Having a test         3\n",
       "Happy dreams- Flying in the sky         2\n",
       "murder scene                            1\n",
       "rarely have dreams                      1\n",
       "Name: count, dtype: int64"
      ]
     },
     "metadata": {},
     "output_type": "display_data"
    }
   ],
   "source": [
    "dream_counts = CTAs.Dreams.value_counts()\n",
    "display(dream_counts)"
   ]
  },
  {
   "cell_type": "code",
   "execution_count": 15,
   "id": "2d958724-d701-4c3f-96dc-db7dfd0237b8",
   "metadata": {},
   "outputs": [
    {
     "data": {
      "text/plain": [
       "(array([0, 1, 2, 3, 4, 5]),\n",
       " [Text(0, 0, 'Always forget my dream'),\n",
       "  Text(1, 0, 'Happy dreams- Unbelievable fantasies'),\n",
       "  Text(2, 0, 'Stressful dreams- Having a test'),\n",
       "  Text(3, 0, 'Happy dreams- Flying in the sky'),\n",
       "  Text(4, 0, 'murder scene'),\n",
       "  Text(5, 0, 'rarely have dreams')])"
      ]
     },
     "execution_count": 15,
     "metadata": {},
     "output_type": "execute_result"
    },
    {
     "data": {
      "image/png": "[encoded data removed]",
      "text/plain": [
       "<Figure size 640x480 with 1 Axes>"
      ]
     },
     "metadata": {},
     "output_type": "display_data"
    }
   ],
   "source": [
    "dream_counts.plot(kind='bar', color='blue')\n",
    "plt.xlabel('Dream type')\n",
    "plt.ylabel('Number')\n",
    "plt.title('Do you always dream? If yes, what type of dream you always have?')\n",
    "plt.xticks(rotation=45)"
   ]
  },
  {
   "cell_type": "code",
   "execution_count": 40,
   "id": "513962c4-de2c-4ae0-95ec-42bff6b35fdd",
   "metadata": {},
   "outputs": [
    {
     "data": {
      "text/html": [
       "<div>\n",
       "<style scoped>\n",
       "    .dataframe tbody tr th:only-of-type {\n",
       "        vertical-align: middle;\n",
       "    }\n",
       "\n",
       "    .dataframe tbody tr th {\n",
       "        vertical-align: top;\n",
       "    }\n",
       "\n",
       "    .dataframe thead th {\n",
       "        text-align: right;\n",
       "    }\n",
       "</style>\n",
       "<table border=\"1\" class=\"dataframe\">\n",
       "  <thead>\n",
       "    <tr style=\"text-align: right;\">\n",
       "      <th></th>\n",
       "      <th>Dreams</th>\n",
       "    </tr>\n",
       "  </thead>\n",
       "  <tbody>\n",
       "    <tr>\n",
       "      <th>0</th>\n",
       "      <td>Happy dreams- Unbelievable fantasies</td>\n",
       "    </tr>\n",
       "    <tr>\n",
       "      <th>1</th>\n",
       "      <td>Happy dreams- Flying in the sky</td>\n",
       "    </tr>\n",
       "    <tr>\n",
       "      <th>6</th>\n",
       "      <td>Happy dreams- Unbelievable fantasies</td>\n",
       "    </tr>\n",
       "    <tr>\n",
       "      <th>9</th>\n",
       "      <td>Happy dreams- Unbelievable fantasies</td>\n",
       "    </tr>\n",
       "    <tr>\n",
       "      <th>10</th>\n",
       "      <td>Happy dreams- Flying in the sky</td>\n",
       "    </tr>\n",
       "    <tr>\n",
       "      <th>17</th>\n",
       "      <td>Happy dreams- Unbelievable fantasies</td>\n",
       "    </tr>\n",
       "  </tbody>\n",
       "</table>\n",
       "</div>"
      ],
      "text/plain": [
       "                                  Dreams\n",
       "0   Happy dreams- Unbelievable fantasies\n",
       "1        Happy dreams- Flying in the sky\n",
       "6   Happy dreams- Unbelievable fantasies\n",
       "9   Happy dreams- Unbelievable fantasies\n",
       "10       Happy dreams- Flying in the sky\n",
       "17  Happy dreams- Unbelievable fantasies"
      ]
     },
     "metadata": {},
     "output_type": "display_data"
    },
    {
     "data": {
      "text/plain": [
       "6"
      ]
     },
     "metadata": {},
     "output_type": "display_data"
    }
   ],
   "source": [
    "df_dreams = pd.DataFrame(CTAs, columns=['Dreams'])\n",
    "positive_dreams = df_dreams[df_dreams['Dreams'].str.contains('Happy dreams')]\n",
    "positive_dreams_count = positive_dreams.value_counts()\n",
    "positive_dreams_count = positive_dreams.shape[0]\n",
    "display(positive_dreams)\n",
    "display(positive_dreams_count)\n"
   ]
  },
  {
   "cell_type": "code",
   "execution_count": 43,
   "id": "fd1059f6-c534-48c7-b81a-7d6ac8f413fa",
   "metadata": {},
   "outputs": [
    {
     "data": {
      "text/plain": [
       "4"
      ]
     },
     "metadata": {},
     "output_type": "display_data"
    },
    {
     "data": {
      "text/html": [
       "<div>\n",
       "<style scoped>\n",
       "    .dataframe tbody tr th:only-of-type {\n",
       "        vertical-align: middle;\n",
       "    }\n",
       "\n",
       "    .dataframe tbody tr th {\n",
       "        vertical-align: top;\n",
       "    }\n",
       "\n",
       "    .dataframe thead th {\n",
       "        text-align: right;\n",
       "    }\n",
       "</style>\n",
       "<table border=\"1\" class=\"dataframe\">\n",
       "  <thead>\n",
       "    <tr style=\"text-align: right;\">\n",
       "      <th></th>\n",
       "      <th>Dreams</th>\n",
       "    </tr>\n",
       "  </thead>\n",
       "  <tbody>\n",
       "    <tr>\n",
       "      <th>2</th>\n",
       "      <td>Stressful dreams- Having a test</td>\n",
       "    </tr>\n",
       "    <tr>\n",
       "      <th>5</th>\n",
       "      <td>Stressful dreams- Having a test</td>\n",
       "    </tr>\n",
       "    <tr>\n",
       "      <th>7</th>\n",
       "      <td>Stressful dreams- Having a test</td>\n",
       "    </tr>\n",
       "    <tr>\n",
       "      <th>11</th>\n",
       "      <td>murder scene</td>\n",
       "    </tr>\n",
       "  </tbody>\n",
       "</table>\n",
       "</div>"
      ],
      "text/plain": [
       "                             Dreams\n",
       "2   Stressful dreams- Having a test\n",
       "5   Stressful dreams- Having a test\n",
       "7   Stressful dreams- Having a test\n",
       "11                     murder scene"
      ]
     },
     "metadata": {},
     "output_type": "display_data"
    }
   ],
   "source": [
    "df_dreams = pd.DataFrame(CTAs, columns=['Dreams'])\n",
    "stressful_dreams = df_dreams[df_dreams['Dreams'].str.contains('Stressful dreams')]\n",
    "murder_dreams = df_dreams[df_dreams['Dreams'].str.contains('murder scene')]\n",
    "#connect stressful_dreams and murder_dreams\n",
    "negative_dreams = pd.concat([stressful_dreams, murder_dreams])\n",
    "negative_dreams_count = negative_dreams.shape[0]\n",
    "\n",
    "display(negative_dreams_count)\n",
    "display(negative_dreams)"
   ]
  },
  {
   "cell_type": "code",
   "execution_count": 47,
   "id": "049a37a9-7e9a-4fe1-b24d-88a6e1361126",
   "metadata": {},
   "outputs": [
    {
     "data": {
      "text/plain": [
       "8"
      ]
     },
     "metadata": {},
     "output_type": "display_data"
    },
    {
     "data": {
      "text/html": [
       "<div>\n",
       "<style scoped>\n",
       "    .dataframe tbody tr th:only-of-type {\n",
       "        vertical-align: middle;\n",
       "    }\n",
       "\n",
       "    .dataframe tbody tr th {\n",
       "        vertical-align: top;\n",
       "    }\n",
       "\n",
       "    .dataframe thead th {\n",
       "        text-align: right;\n",
       "    }\n",
       "</style>\n",
       "<table border=\"1\" class=\"dataframe\">\n",
       "  <thead>\n",
       "    <tr style=\"text-align: right;\">\n",
       "      <th></th>\n",
       "      <th>Dreams</th>\n",
       "    </tr>\n",
       "  </thead>\n",
       "  <tbody>\n",
       "    <tr>\n",
       "      <th>3</th>\n",
       "      <td>Always forget my dream</td>\n",
       "    </tr>\n",
       "    <tr>\n",
       "      <th>4</th>\n",
       "      <td>Always forget my dream</td>\n",
       "    </tr>\n",
       "    <tr>\n",
       "      <th>8</th>\n",
       "      <td>Always forget my dream</td>\n",
       "    </tr>\n",
       "    <tr>\n",
       "      <th>12</th>\n",
       "      <td>Always forget my dream</td>\n",
       "    </tr>\n",
       "    <tr>\n",
       "      <th>13</th>\n",
       "      <td>Always forget my dream</td>\n",
       "    </tr>\n",
       "    <tr>\n",
       "      <th>14</th>\n",
       "      <td>Always forget my dream</td>\n",
       "    </tr>\n",
       "    <tr>\n",
       "      <th>16</th>\n",
       "      <td>Always forget my dream</td>\n",
       "    </tr>\n",
       "    <tr>\n",
       "      <th>15</th>\n",
       "      <td>rarely have dreams</td>\n",
       "    </tr>\n",
       "  </tbody>\n",
       "</table>\n",
       "</div>"
      ],
      "text/plain": [
       "                    Dreams\n",
       "3   Always forget my dream\n",
       "4   Always forget my dream\n",
       "8   Always forget my dream\n",
       "12  Always forget my dream\n",
       "13  Always forget my dream\n",
       "14  Always forget my dream\n",
       "16  Always forget my dream\n",
       "15      rarely have dreams"
      ]
     },
     "metadata": {},
     "output_type": "display_data"
    }
   ],
   "source": [
    "df_dreams = pd.DataFrame(CTAs, columns=['Dreams'])\n",
    "forget_dreams = df_dreams[df_dreams['Dreams'].str.contains('Always forget my dream')]\n",
    "forget_dreams_2 = df_dreams[df_dreams['Dreams'].str.contains('rarely have dreams')]\n",
    "#connect stressful_dreams and murder_dreams\n",
    "no_dreams = pd.concat([forget_dreams, forget_dreams_2])\n",
    "no_dreams_count = no_dreams.shape[0]\n",
    "\n",
    "display(no_dreams_count)\n",
    "display(no_dreams)"
   ]
  },
  {
   "cell_type": "code",
   "execution_count": null,
   "id": "3e3f361e-01cb-4953-ab63-11a3a81415f6",
   "metadata": {},
   "outputs": [],
   "source": [
    "df_no_dreams = \n",
    "df_water = type_groupings.get_group('water')"
   ]
  },
  {
   "cell_type": "code",
   "execution_count": 50,
   "id": "5601bc9a-48f9-4e72-b24a-49a7466b1952",
   "metadata": {},
   "outputs": [
    {
     "data": {
      "text/plain": [
       "Text(0, 0.5, 'Number')"
      ]
     },
     "execution_count": 50,
     "metadata": {},
     "output_type": "execute_result"
    },
    {
     "data": {
      "image/png": "[encoded data removed]",
      "text/plain": [
       "<Figure size 640x480 with 1 Axes>"
      ]
     },
     "metadata": {},
     "output_type": "display_data"
    }
   ],
   "source": [
    "plt.hist(positive_dreams_count, bins=20, label='positive dreams')\n",
    "plt.hist(negative_dreams_count, bins=20, label='negative_dreams')\n",
    "plt.hist(no_dreams_count, bins=20, label='no_dreams')\n",
    "\n",
    "plt.title(\"Dream styles\")\n",
    "plt.xlabel(\"Dream\")\n",
    "plt.ylabel(\"Number\")"
   ]
  },
  {
   "cell_type": "code",
   "execution_count": null,
   "id": "71b61212-cd2f-443f-bf18-5753b8eb46db",
   "metadata": {},
   "outputs": [],
   "source": []
  }
 ],
 "metadata": {
  "kernelspec": {
   "display_name": "Python 3 (ipykernel)",
   "language": "python",
   "name": "python3"
  },
  "language_info": {
   "codemirror_mode": {
    "name": "ipython",
    "version": 3
   },
   "file_extension": ".py",
   "mimetype": "text/x-python",
   "name": "python",
   "nbconvert_exporter": "python",
   "pygments_lexer": "ipython3",
   "version": "3.11.9"
  }
 },
 "nbformat": 4,
 "nbformat_minor": 5
}
